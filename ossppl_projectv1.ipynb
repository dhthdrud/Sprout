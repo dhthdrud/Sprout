{
  "nbformat": 4,
  "nbformat_minor": 0,
  "metadata": {
    "colab": {
      "name": "ossppl_project_template.ipynb의 사본",
      "provenance": [],
      "collapsed_sections": [
        "NUD-hySm_uPc"
      ],
      "toc_visible": true,
      "include_colab_link": true
    },
    "kernelspec": {
      "name": "python3",
      "display_name": "Python 3"
    }
  },
  "cells": [
    {
      "cell_type": "markdown",
      "metadata": {
        "id": "view-in-github",
        "colab_type": "text"
      },
      "source": [
        "<a href=\"https://colab.research.google.com/github/dhthdrud/Sprout/blob/master/ossppl_projectv1.ipynb\" target=\"_parent\"><img src=\"https://colab.research.google.com/assets/colab-badge.svg\" alt=\"Open In Colab\"/></a>"
      ]
    },
    {
      "cell_type": "markdown",
      "metadata": {
        "id": "NUD-hySm_uPc"
      },
      "source": [
        "# **Open Source SW and Python Programming Project: Implementation of Subway Navigation**\n",
        "\n",
        "In this project, you will implement a navigation system for Seoul subway stations, especially **step by step**\n",
        "\n",
        "\n"
      ]
    },
    {
      "cell_type": "markdown",
      "metadata": {
        "id": "uUsnepoeAhVl"
      },
      "source": [
        "# 0. Initialization\n",
        "\n",
        "Read subway station information by reading the file **simplified_subway_info_english.xlsx** or **simplified_subway_info_korean.xlsx**\n",
        "*  The excel file contains subway station information of Seoul subway line 1 ~ 4\n",
        "*  When you execute this sourcecode, you MUST upload these files in your Colab runtime environment\n",
        "*   **MUST NOT** change this code cell"
      ]
    },
    {
      "cell_type": "code",
      "metadata": {
        "id": "qnbOlA6o_mIl"
      },
      "source": [
        "import xlrd\n",
        "\n",
        "# Read data file\n",
        "data = xlrd.open_workbook(\"simplified_subway_info_english.xlsx\")\n",
        "data = data.sheet_by_name('Sheet1')\n",
        "\n",
        "# Store the loaded book object as a string list in subwayStation variable\n",
        "subwayStation = []\n",
        "for line in range(4) :\n",
        "    cur = [x for x in data.col_values(line) if x]    \n",
        "    subwayStation.append(cur[1:])   "
      ],
      "execution_count": 56,
      "outputs": []
    },
    {
      "cell_type": "markdown",
      "metadata": {
        "id": "sAjSA1eAiEsy"
      },
      "source": [
        "# 새 섹션"
      ]
    },
    {
      "cell_type": "code",
      "metadata": {
        "id": "KbZGr8STe2Kb"
      },
      "source": [
        "import sys"
      ],
      "execution_count": 57,
      "outputs": []
    },
    {
      "cell_type": "markdown",
      "metadata": {
        "id": "DBXU61Tn_vKS"
      },
      "source": [
        "# 1. Your implementation\n",
        "Let's start the implementation of a subway naviation system by using the loaded subway station information :)\n",
        "\n",
        "*   You can access the subway station information by referring to **subwayStation** variable (list type)"
      ]
    },
    {
      "cell_type": "code",
      "metadata": {
        "id": "7h-scy6AI8Re",
        "outputId": "e5e5636b-f534-4335-cbbc-c13ce6dfef68",
        "colab": {
          "base_uri": "https://localhost:8080/"
        }
      },
      "source": [
        "'''\n",
        "This is an example code for showing how to use the loaded data.\n",
        "You can remove this code.\n",
        "'''\n",
        "for i in range(4) :\n",
        "    print(subwayStation[i]) # subwayStation[i] contatins the (i - 1)-th subway line information\n",
        "\n",
        "print(subwayStation[1])\n",
        "\n",
        "\n",
        "\n"
      ],
      "execution_count": 59,
      "outputs": [
        {
          "output_type": "stream",
          "text": [
            "['Soyosan', 'Dongducheon', 'Bosan', 'Dongducheon jungang', 'Jihaeng', 'Deokjeong', 'Deokgye', 'Yangju', 'Nogyang', 'Ganeung', 'Uijeongbu', 'Hoeryong', 'Mangwolsa', 'Dobongsan', 'Dobong', 'Banghak', 'Chang-dong', 'Nokcheon', 'Wolgye', 'Kwangwoon Univ.', 'Seokgye', 'Sinimun', 'Hankuk Univ. of Foreign Studies', 'Hoegi', 'Cheongnyangni', 'Jegi-dong', 'Sinseol-dong', 'Dongmyo', 'Dongdaemun', 'Jongno 5(o)-ga', 'Jongno 3(sam)-ga', 'Jonggak', 'City Hall', 'Seoul Station', 'Namyeong', 'Yongsan', 'Noryangjin', 'Daebang', 'Singil', 'Yeongdeungpo', 'Sindorim', 'Guro', 'Guil', 'Gaebong', 'Oryu-dong', 'Onsu', 'Yeokgok', 'Sosa', 'Bucheon', 'Jung-dong', 'Songnae', 'Bugae', 'Bupyeong', 'Baegun', 'Dongam', 'Ganseok', 'Juan', 'Dohwa', 'Jemulpo', 'Dowon', 'Dongincheon', 'Incheon']\n",
            "['Sindorim', 'Daerim', 'Guro Digital Complex', 'Sindaebang', 'Sillim', 'Bongcheon', 'Seoul Nat`l Univ.', 'Nakseongdae', 'Sadang', 'Bangbae', 'Seocho', 'Seoul Nat`l Univ. of Education', 'Gangnam', 'Yeoksam', 'Seolleung', 'Samseong', 'Sports Complex', 'Jamsilsaenae Station', 'Jamsil', 'Jamsillaru', 'Gangbyeon', 'Guui', 'Konkuk Univ.', 'Seongsu', 'Ttukseom', 'Hanyang Univ.', 'Wangsimni', 'Sangwangsimni', 'Sindang', 'Dongdaemun History  Culture Park', 'Euljiro 4(sa)-ga', 'Euljiro 3(sam)-ga', 'Euljiro 1(il)-ga', 'City Hall', 'Chungjeongno', 'Ahyeon', 'Ewha Womans Univ.', 'Sinchon', 'Hongik Univ.', 'Hapjeong', 'Dangsan', 'Yeongdeungpo-gu Office', 'Mullae']\n",
            "['Daehwa', 'Juyeop', 'Jeongbalsan', 'Madu', 'Baekseok', 'Daegok', 'Hwajeong', 'Wondang', 'Wonheung', 'Samsong', 'Jichuk', 'Gupabal', 'Yeonsinnae', 'Bulgwang', 'Nokbeon', 'Hongje', 'Muakjae', 'Dongnimmun', 'Gyeongbokgung', 'Anguk', 'Jongno 3(sam)-ga', 'Euljiro 3(sam)-ga', 'Chungmuro', 'Dongguk Univ.', 'Yaksu', 'Geumho', 'Oksu', 'Apgujeong', 'Sinsa', 'Jamwon', 'Express Bus Terminal', 'Seoul Nat`l Univ. of Education', 'Nambu Bus Terminal', 'Yangjae', 'Maebong', 'Dogok', 'Daechi', 'Hangnyeoul', 'Daecheong', 'Irwon', 'Suseo', 'Garak Market', 'National Police Hospital', 'Ogeum']\n",
            "['Danggogae', 'Sanggye', 'Nowon', 'Chang-dong', 'Ssangmun', 'Suyu', 'Mia', 'Miasamgeori', 'Gireum', 'Sungshin Women`s Univ.', 'Hansung Univ.', 'Hyehwa', 'Dongdaemun', 'Dongdaemun History  Culture Park', 'Chungmuro', 'Myeong-dong', 'Hoehyeon', 'Seoul Station', 'Sookmyung Women`s Univ.', 'Samgakji', 'Sinyongsan', 'Ichon', 'Dongjak', 'Chongshin Univ.', 'Sadang', 'Namtaeryeong', 'Seonbawi', 'Seoul Racecourse Park', 'Seoul Grand Park', 'Gwacheon', 'Government Complex Gwacheon', 'Indeogwon', 'Pyeongchon', 'Beomgye', 'Geumjeong', 'Sanbon', 'Surisan', 'Daeyami', 'Banwol', 'Sangnoksu', 'Hanyang Univ. at Ansan', 'Jungang', 'Gojan', 'Choji', 'Ansan', 'Singil oncheon', 'Jeongwang', 'Oido']\n",
            "['Sindorim', 'Daerim', 'Guro Digital Complex', 'Sindaebang', 'Sillim', 'Bongcheon', 'Seoul Nat`l Univ.', 'Nakseongdae', 'Sadang', 'Bangbae', 'Seocho', 'Seoul Nat`l Univ. of Education', 'Gangnam', 'Yeoksam', 'Seolleung', 'Samseong', 'Sports Complex', 'Jamsilsaenae Station', 'Jamsil', 'Jamsillaru', 'Gangbyeon', 'Guui', 'Konkuk Univ.', 'Seongsu', 'Ttukseom', 'Hanyang Univ.', 'Wangsimni', 'Sangwangsimni', 'Sindang', 'Dongdaemun History  Culture Park', 'Euljiro 4(sa)-ga', 'Euljiro 3(sam)-ga', 'Euljiro 1(il)-ga', 'City Hall', 'Chungjeongno', 'Ahyeon', 'Ewha Womans Univ.', 'Sinchon', 'Hongik Univ.', 'Hapjeong', 'Dangsan', 'Yeongdeungpo-gu Office', 'Mullae']\n"
          ],
          "name": "stdout"
        }
      ]
    },
    {
      "cell_type": "code",
      "metadata": {
        "id": "T4BhPHOg5MYb",
        "outputId": "50e08955-913c-4e95-ed28-e95c73991080",
        "colab": {
          "base_uri": "https://localhost:8080/",
          "height": 741
        }
      },
      "source": [
        "while (1):\n",
        "    print('*********************************************************')\n",
        "    print('1.Display subway line information (Line 1 ~ 4)')\n",
        "    print('2.Display subway station information')\n",
        "    print('3.Exit')\n",
        "    print('*********************************************************')\n",
        "    number=int(input('Please choose one of the options (1 - 3):'))\n",
        "\n",
        "    if number==1:\n",
        "        print('*********************************************************')\n",
        "        print('Subway line information service')\n",
        "        print('*********************************************************')\n",
        "        line=0\n",
        "\n",
        "        while(line<1 or line>4):\n",
        "            line=int(input('>>Please enter a subway line number (1 - 4):'))\n",
        "\n",
        "        if line in [1,2,3,4]:\n",
        "            i = line-1\n",
        "            print(subwayStation[i])\n",
        "    \n",
        "        else:\n",
        "            print('Please do it again')\n",
        "            continue\n",
        "\n",
        "    elif number==2:\n",
        "        print('*********************************************************')\n",
        "        print('Subway station information service')\n",
        "        print('*********************************************************')\n",
        "        k=0\n",
        "        while(k==0):\n",
        "            k=0\n",
        "            lines=[]\n",
        "            name = input('>>Please enter a subway station name:')\n",
        "\n",
        "            for i in range(4):\n",
        "                if(name in subwayStation[i]):\n",
        "                    lines.append (i+1)\n",
        "                    k=k+1\n",
        "\n",
        "            if(k==0):\n",
        "                print('There is no such station here')\n",
        "                \n",
        "        if(k==1):\n",
        "            print(name,' is in Line',lines[0])\n",
        "\n",
        "        elif(k==2):\n",
        "            print(name,' is in Line',lines[0],',', lines[1])\n",
        "\n",
        "        elif(k==3):\n",
        "            print(name,' is in Line',lines[0],',', lines[1],',', lines[2])\n",
        "\n",
        "        elif(k==4):\n",
        "            print(name,' is in Line',lines[0],',', lines[1],',', lines[2],',', lines[3])\n",
        "\n",
        "        continue\n",
        "\n",
        "    elif number==3:\n",
        "        sys.exit()\n",
        "\n",
        "    else:\n",
        "        print('Please do it again')\n",
        "        continue"
      ],
      "execution_count": 144,
      "outputs": [
        {
          "output_type": "stream",
          "text": [
            "*********************************************************\n",
            "1.Display subway line information (Line 1 ~ 4)\n",
            "2.Display subway station information\n",
            "3.Exit\n",
            "*********************************************************\n",
            "Please choose one of the options (1 - 3):2\n",
            "*********************************************************\n",
            "Subway station information service\n",
            "*********************************************************\n",
            ">>Please enter a subway station name:while (1):     print('*********************************************************')     print('1.Display subway line information (Line 1 ~ 4)')     print('2.Display subway station information')     print('3.Exit')     print('*********************************************************')     number=int(input('Please choose one of the options (1 - 3):'))      if number==1:         print('*********************************************************')         print('Subway line information service')         print('*********************************************************')         line=0          while(line<1 or line>4):             line=int(input('>>Please enter a subway line number (1 - 4):'))          if line in [1,2,3,4]:             i = line-1             print(subwayStation[i])              else:             print('Please do it again')             continue      elif number==2:         print('*********************************************************')         print('Subway station information service')         print('*********************************************************')         k=0         while(k==0):             k=0             lines=[]             name = input('>>Please enter a subway station name:')              for i in range(4):                 if(name in subwayStation[i]):                     lines.append (i+1)                     k=k+1              if(k==0):                 print('There is no such station here')                          if(k==1):             print(name,' is in Line',lines[0])          elif(k==2):             print(name,' is in Line',lines[0],',', lines[1])          elif(k==3):             print(name,' is in Line',lines[0],',', lines[1],',', lines[2])          elif(k==4):             print(name,' is in Line',lines[0],',', lines[1],',', lines[2],',', lines[3])          continue      elif number==3:         sys.exit()      else:         print('Please do it again')         continue\n",
            "There is no such station here\n",
            ">>Please enter a subway station name:2\n",
            "There is no such station here\n",
            ">>Please enter a subway station name:Seoul Nat`l Univ. of Education\n",
            "Seoul Nat`l Univ. of Education  is in Line 2 , 3\n",
            "*********************************************************\n",
            "1.Display subway line information (Line 1 ~ 4)\n",
            "2.Display subway station information\n",
            "3.Exit\n",
            "*********************************************************\n",
            "Please choose one of the options (1 - 3):1\n",
            "*********************************************************\n",
            "Subway line information service\n",
            "*********************************************************\n",
            ">>Please enter a subway line number (1 - 4):2\n",
            "['Sindorim', 'Daerim', 'Guro Digital Complex', 'Sindaebang', 'Sillim', 'Bongcheon', 'Seoul Nat`l Univ.', 'Nakseongdae', 'Sadang', 'Bangbae', 'Seocho', 'Seoul Nat`l Univ. of Education', 'Gangnam', 'Yeoksam', 'Seolleung', 'Samseong', 'Sports Complex', 'Jamsilsaenae Station', 'Jamsil', 'Jamsillaru', 'Gangbyeon', 'Guui', 'Konkuk Univ.', 'Seongsu', 'Ttukseom', 'Hanyang Univ.', 'Wangsimni', 'Sangwangsimni', 'Sindang', 'Dongdaemun History  Culture Park', 'Euljiro 4(sa)-ga', 'Euljiro 3(sam)-ga', 'Euljiro 1(il)-ga', 'City Hall', 'Chungjeongno', 'Ahyeon', 'Ewha Womans Univ.', 'Sinchon', 'Hongik Univ.', 'Hapjeong', 'Dangsan', 'Yeongdeungpo-gu Office', 'Mullae']\n",
            "*********************************************************\n",
            "1.Display subway line information (Line 1 ~ 4)\n",
            "2.Display subway station information\n",
            "3.Exit\n",
            "*********************************************************\n",
            "Please choose one of the options (1 - 3):3\n"
          ],
          "name": "stdout"
        },
        {
          "output_type": "error",
          "ename": "SystemExit",
          "evalue": "ignored",
          "traceback": [
            "An exception has occurred, use %tb to see the full traceback.\n",
            "\u001b[0;31mSystemExit\u001b[0m\n"
          ]
        },
        {
          "output_type": "stream",
          "text": [
            "/usr/local/lib/python3.6/dist-packages/IPython/core/interactiveshell.py:2890: UserWarning: To exit: use 'exit', 'quit', or Ctrl-D.\n",
            "  warn(\"To exit: use 'exit', 'quit', or Ctrl-D.\", stacklevel=1)\n"
          ],
          "name": "stderr"
        }
      ]
    },
    {
      "cell_type": "code",
      "metadata": {
        "id": "OSPRHx1WJFEw"
      },
      "source": [
        ""
      ],
      "execution_count": null,
      "outputs": []
    }
  ]
}